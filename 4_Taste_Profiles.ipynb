{
 "cells": [
  {
   "cell_type": "markdown",
   "metadata": {},
   "source": [
    "\n",
    "\n",
    "# Recipe #4:  Taste Profiles\n",
    "\n"
   ]
  },
  {
   "cell_type": "markdown",
   "metadata": {},
   "source": [
    "For taste profiles, we need to index the following data-shape:  \n",
    "\n",
    "(**user**, **query[]**, **document[]**)"
   ]
  },
  {
   "cell_type": "code",
   "execution_count": null,
   "metadata": {},
   "outputs": [],
   "source": [
    "import sys\n",
    "!conda install --yes --prefix {sys.prefix} elasticsearch jsonlines jsonpath-ng python-slugify"
   ]
  },
  {
   "cell_type": "code",
   "execution_count": null,
   "metadata": {},
   "outputs": [],
   "source": [
    "import pandas\n",
    "import json\n",
    "from extract import extract, parse_json\n",
    "from taste.transform import reshape, preload\n",
    "from index import create_index, populate_index, query_index, index_mapping, query_template, peek, get"
   ]
  },
  {
   "cell_type": "markdown",
   "metadata": {},
   "source": [
    "\n",
    "## Source data \n"
   ]
  },
  {
   "cell_type": "code",
   "execution_count": null,
   "metadata": {
    "scrolled": true
   },
   "outputs": [],
   "source": [
    "source = extract('./data/real_estate_queries.tsv')\n",
    "\n",
    "# View the source data\n",
    "source.head(5)"
   ]
  },
  {
   "cell_type": "markdown",
   "metadata": {},
   "source": [
    "\n",
    "##  Transform to fit the recipe\n"
   ]
  },
  {
   "cell_type": "code",
   "execution_count": null,
   "metadata": {
    "scrolled": true
   },
   "outputs": [],
   "source": [
    "reshaped = reshape(source)\n",
    "\n",
    "# Verify the data shape\n",
    "reshaped.head(50)"
   ]
  },
  {
   "cell_type": "markdown",
   "metadata": {},
   "source": [
    "E.g. User 756 searched for \"chesapeake real estate assesser\" and \"virginia beach\" and at some point via search clicked on http://www.chesapeake.va.us and http://www.vbgov..."
   ]
  },
  {
   "cell_type": "code",
   "execution_count": null,
   "metadata": {},
   "outputs": [],
   "source": [
    "load_ready = preload(reshaped)\n",
    "\n",
    "# Verify the elasticsearch bulk index format\n",
    "[print(j) for j in load_ready[0:10]]"
   ]
  },
  {
   "cell_type": "markdown",
   "metadata": {},
   "source": [
    "\n",
    "## Load the index\n"
   ]
  },
  {
   "cell_type": "code",
   "execution_count": null,
   "metadata": {
    "scrolled": false
   },
   "outputs": [],
   "source": [
    "# Create the index with mapping\n",
    "create_index(index='taste', mapping_file='taste/index_definition.json')\n",
    "\n",
    "# Show the mapping\n",
    "index_mapping(index='taste')"
   ]
  },
  {
   "cell_type": "code",
   "execution_count": null,
   "metadata": {},
   "outputs": [],
   "source": [
    "# Load the index\n",
    "response = populate_index(body=load_ready)"
   ]
  },
  {
   "cell_type": "markdown",
   "metadata": {},
   "source": [
    "\n",
    "## Taste profile for one user\n"
   ]
  },
  {
   "cell_type": "code",
   "execution_count": null,
   "metadata": {},
   "outputs": [],
   "source": [
    "# Fetch a user doc\n",
    "profile = get('10008', 'taste')\n",
    "\n",
    "print(json.dumps(profile, indent=2))"
   ]
  },
  {
   "cell_type": "markdown",
   "metadata": {},
   "source": [
    "## What other users share these interests? "
   ]
  },
  {
   "cell_type": "code",
   "execution_count": null,
   "metadata": {},
   "outputs": [],
   "source": [
    "# Show the recommendation query\n",
    "peek(filename='taste/query_template.mustache')"
   ]
  },
  {
   "cell_type": "markdown",
   "metadata": {},
   "source": [
    "##  And what queries do **they** use?"
   ]
  },
  {
   "cell_type": "code",
   "execution_count": null,
   "metadata": {},
   "outputs": [],
   "source": [
    "# Run the query\n",
    "result = query_template(index='taste', \n",
    "               template_file='taste/query_template.mustache',\n",
    "               params={ 'user': '10008', 'size': 50 }\n",
    "              )\n",
    "\n",
    "# Parse the candidate queries out of the response\n",
    "query_suggestion_candidates = parse_json(result, jsonpath=\"aggregations.query_recommendations.buckets[*].key\")\n",
    "\n",
    "# Remove the candidate queries already run by the user\n",
    "query_suggestion = [s for s in query_suggestion_candidates if s not in profile['_source']['query']]\n",
    "\n",
    "# Show\n",
    "pandas.DataFrame({'Suggested Queries': query_suggestion}).head(25)"
   ]
  },
  {
   "cell_type": "code",
   "execution_count": null,
   "metadata": {},
   "outputs": [],
   "source": [
    "# Parse the candidate documents out of the response\n",
    "document_suggestion_candidates = parse_json(result, jsonpath=\"aggregations.document_recommendations.buckets[*].key\")\n",
    "\n",
    "# Remove the candidate documents already visited by the user\n",
    "document_suggestion = [s for s in document_suggestion_candidates if s not in profile['_source']['document']]\n",
    "\n",
    "# Show \n",
    "pandas.DataFrame({'Suggested Documents': document_suggestion}).head(25)"
   ]
  },
  {
   "cell_type": "code",
   "execution_count": null,
   "metadata": {},
   "outputs": [],
   "source": []
  }
 ],
 "metadata": {
  "kernelspec": {
   "display_name": "Python 3",
   "language": "python",
   "name": "python3"
  },
  "language_info": {
   "codemirror_mode": {
    "name": "ipython",
    "version": 3
   },
   "file_extension": ".py",
   "mimetype": "text/x-python",
   "name": "python",
   "nbconvert_exporter": "python",
   "pygments_lexer": "ipython3",
   "version": "3.7.6"
  }
 },
 "nbformat": 4,
 "nbformat_minor": 4
}
