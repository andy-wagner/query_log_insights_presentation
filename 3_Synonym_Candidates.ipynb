{
 "cells": [
  {
   "cell_type": "markdown",
   "metadata": {},
   "source": [
    "\n",
    "\n",
    "# Recipe #3:  Synonym Candidates\n",
    "\n"
   ]
  },
  {
   "cell_type": "raw",
   "metadata": {},
   "source": [
    "For synonym candidates, we need to index the following data-shape:  \n",
    "\n",
    "(**document**, **query[]**)"
   ]
  },
  {
   "cell_type": "code",
   "execution_count": null,
   "metadata": {},
   "outputs": [],
   "source": [
    "import sys\n",
    "!conda install --yes --prefix {sys.prefix} elasticsearch jsonlines jsonpath-ng python-slugify\n",
    "\n",
    "import pandas\n",
    "from extract import extract, parse_json\n",
    "from synonym.transform import reshape, preload\n",
    "from index import create_index, populate_index, query_index, index_mapping, query_template, peek\n"
   ]
  },
  {
   "cell_type": "markdown",
   "metadata": {},
   "source": [
    "\n",
    "## Source data \n"
   ]
  },
  {
   "cell_type": "code",
   "execution_count": null,
   "metadata": {
    "scrolled": true
   },
   "outputs": [],
   "source": [
    "source = extract('./data/real_estate_queries.tsv')\n",
    "\n",
    "# peek\n",
    "source.head(5)"
   ]
  },
  {
   "cell_type": "markdown",
   "metadata": {},
   "source": [
    "\n",
    "##  Transform to fit the recipe\n"
   ]
  },
  {
   "cell_type": "code",
   "execution_count": null,
   "metadata": {
    "scrolled": true
   },
   "outputs": [],
   "source": [
    "reshaped = reshape(source)\n",
    "\n",
    "# peek\n",
    "reshaped.head(50)"
   ]
  },
  {
   "cell_type": "markdown",
   "metadata": {},
   "source": [
    "E.g. 126.realnetsystems.com  received search clicks for multiple \"grand junction\" queries."
   ]
  },
  {
   "cell_type": "code",
   "execution_count": null,
   "metadata": {},
   "outputs": [],
   "source": [
    "load_ready = preload(reshaped)\n",
    "\n",
    "# peek\n",
    "[print(j) for j in load_ready[0:10]]\n"
   ]
  },
  {
   "cell_type": "markdown",
   "metadata": {},
   "source": [
    "\n",
    "## Load the index\n"
   ]
  },
  {
   "cell_type": "code",
   "execution_count": null,
   "metadata": {
    "scrolled": false
   },
   "outputs": [],
   "source": [
    "create_index(index='synonym', mapping_file='synonym/index_definition.json')\n",
    "\n",
    "index_mapping(index='synonym')"
   ]
  },
  {
   "cell_type": "code",
   "execution_count": null,
   "metadata": {},
   "outputs": [],
   "source": [
    "response = populate_index(body=load_ready)"
   ]
  },
  {
   "cell_type": "markdown",
   "metadata": {},
   "source": [
    "\n",
    "## Query for related searches\n"
   ]
  },
  {
   "cell_type": "code",
   "execution_count": null,
   "metadata": {},
   "outputs": [],
   "source": [
    "peek(filename='synonym/query_template.mustache')"
   ]
  },
  {
   "cell_type": "code",
   "execution_count": null,
   "metadata": {},
   "outputs": [],
   "source": [
    "result = query_template(index='synonym', \n",
    "               template_file='synonym/query_template.mustache',\n",
    "               params={ 'text': 'license', 'size': 15 }\n",
    "              )\n",
    "\n",
    "synonym_candidates = parse_json(result, jsonpath=\"aggregations.*.buckets[*]\")\n",
    "df = pandas.DataFrame(synonym_candidates).sort_values(by='score', ascending=False)\n",
    "\n",
    "df.head(25)\n"
   ]
  }
 ],
 "metadata": {
  "kernelspec": {
   "display_name": "Python 3",
   "language": "python",
   "name": "python3"
  },
  "language_info": {
   "codemirror_mode": {
    "name": "ipython",
    "version": 3
   },
   "file_extension": ".py",
   "mimetype": "text/x-python",
   "name": "python",
   "nbconvert_exporter": "python",
   "pygments_lexer": "ipython3",
   "version": "3.7.6"
  }
 },
 "nbformat": 4,
 "nbformat_minor": 4
}
