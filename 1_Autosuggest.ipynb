{
 "cells": [
  {
   "cell_type": "markdown",
   "metadata": {},
   "source": [
    "# Recipe #1:  Autosuggest"
   ]
  },
  {
   "cell_type": "markdown",
   "metadata": {},
   "source": [
    "For simple autosuggest, we need to index the following data-shape:  \n",
    "\n",
    "(**last_query_date**, **query**, **count**)"
   ]
  },
  {
   "cell_type": "code",
   "execution_count": 1,
   "metadata": {},
   "outputs": [
    {
     "name": "stdout",
     "output_type": "stream",
     "text": [
      "Collecting package metadata (current_repodata.json): done\n",
      "Solving environment: done\n",
      "\n",
      "# All requested packages already installed.\n",
      "\n"
     ]
    }
   ],
   "source": [
    "import sys\n",
    "!conda install --yes --prefix {sys.prefix} elasticsearch jsonlines jsonpath-ng python-slugify\n",
    "\n",
    "import pandas\n",
    "from extract import extract, parse_json\n",
    "from autosuggest.transform import reshape, preload\n",
    "from index import create_index, populate_index, query_index, index_mapping, query_template, peek\n"
   ]
  },
  {
   "cell_type": "markdown",
   "metadata": {},
   "source": [
    "\n",
    "## Source data \n"
   ]
  },
  {
   "cell_type": "code",
   "execution_count": 2,
   "metadata": {
    "scrolled": true
   },
   "outputs": [
    {
     "data": {
      "text/html": [
       "<div>\n",
       "<style scoped>\n",
       "    .dataframe tbody tr th:only-of-type {\n",
       "        vertical-align: middle;\n",
       "    }\n",
       "\n",
       "    .dataframe tbody tr th {\n",
       "        vertical-align: top;\n",
       "    }\n",
       "\n",
       "    .dataframe thead th {\n",
       "        text-align: right;\n",
       "    }\n",
       "</style>\n",
       "<table border=\"1\" class=\"dataframe\">\n",
       "  <thead>\n",
       "    <tr style=\"text-align: right;\">\n",
       "      <th></th>\n",
       "      <th>user</th>\n",
       "      <th>query</th>\n",
       "      <th>timestamp</th>\n",
       "      <th>position</th>\n",
       "      <th>document</th>\n",
       "      <th>state</th>\n",
       "    </tr>\n",
       "  </thead>\n",
       "  <tbody>\n",
       "    <tr>\n",
       "      <th>0</th>\n",
       "      <td>1337</td>\n",
       "      <td>national real estate settlement services</td>\n",
       "      <td>2006-03-14 15:59:13</td>\n",
       "      <td>1.0</td>\n",
       "      <td>http://www.realtms.com</td>\n",
       "      <td>NaN</td>\n",
       "    </tr>\n",
       "    <tr>\n",
       "      <th>1</th>\n",
       "      <td>1337</td>\n",
       "      <td>national real estate settlement services</td>\n",
       "      <td>2006-03-14 15:59:13</td>\n",
       "      <td>7.0</td>\n",
       "      <td>http://dmoz.org</td>\n",
       "      <td>NaN</td>\n",
       "    </tr>\n",
       "    <tr>\n",
       "      <th>2</th>\n",
       "      <td>1337</td>\n",
       "      <td>sunbury pennsylvania real estate settlement se...</td>\n",
       "      <td>2006-03-14 16:06:28</td>\n",
       "      <td>14.0</td>\n",
       "      <td>http://pa.optimuslaw.com</td>\n",
       "      <td>pennsylvania</td>\n",
       "    </tr>\n",
       "    <tr>\n",
       "      <th>3</th>\n",
       "      <td>1337</td>\n",
       "      <td>integrated real estate</td>\n",
       "      <td>2006-03-27 14:52:29</td>\n",
       "      <td>1.0</td>\n",
       "      <td>http://www.integratedreal.com</td>\n",
       "      <td>NaN</td>\n",
       "    </tr>\n",
       "    <tr>\n",
       "      <th>4</th>\n",
       "      <td>1337</td>\n",
       "      <td>integrated real estate</td>\n",
       "      <td>2006-03-27 14:52:29</td>\n",
       "      <td>2.0</td>\n",
       "      <td>http://www.irisnet.net</td>\n",
       "      <td>NaN</td>\n",
       "    </tr>\n",
       "  </tbody>\n",
       "</table>\n",
       "</div>"
      ],
      "text/plain": [
       "   user                                              query  \\\n",
       "0  1337           national real estate settlement services   \n",
       "1  1337           national real estate settlement services   \n",
       "2  1337  sunbury pennsylvania real estate settlement se...   \n",
       "3  1337                             integrated real estate   \n",
       "4  1337                             integrated real estate   \n",
       "\n",
       "             timestamp  position                       document         state  \n",
       "0  2006-03-14 15:59:13       1.0         http://www.realtms.com           NaN  \n",
       "1  2006-03-14 15:59:13       7.0                http://dmoz.org           NaN  \n",
       "2  2006-03-14 16:06:28      14.0       http://pa.optimuslaw.com  pennsylvania  \n",
       "3  2006-03-27 14:52:29       1.0  http://www.integratedreal.com           NaN  \n",
       "4  2006-03-27 14:52:29       2.0         http://www.irisnet.net           NaN  "
      ]
     },
     "execution_count": 2,
     "metadata": {},
     "output_type": "execute_result"
    }
   ],
   "source": [
    "source = extract('./data/real_estate_queries.tsv')\n",
    "\n",
    "# peek\n",
    "source.head(5)"
   ]
  },
  {
   "cell_type": "markdown",
   "metadata": {},
   "source": [
    "\n",
    "##  Transform to fit the recipe\n"
   ]
  },
  {
   "cell_type": "code",
   "execution_count": 3,
   "metadata": {
    "scrolled": true
   },
   "outputs": [
    {
     "data": {
      "text/html": [
       "<div>\n",
       "<style scoped>\n",
       "    .dataframe tbody tr th:only-of-type {\n",
       "        vertical-align: middle;\n",
       "    }\n",
       "\n",
       "    .dataframe tbody tr th {\n",
       "        vertical-align: top;\n",
       "    }\n",
       "\n",
       "    .dataframe thead th {\n",
       "        text-align: right;\n",
       "    }\n",
       "</style>\n",
       "<table border=\"1\" class=\"dataframe\">\n",
       "  <thead>\n",
       "    <tr style=\"text-align: right;\">\n",
       "      <th></th>\n",
       "      <th>query</th>\n",
       "      <th>count</th>\n",
       "      <th>timestamp</th>\n",
       "    </tr>\n",
       "  </thead>\n",
       "  <tbody>\n",
       "    <tr>\n",
       "      <th>0</th>\n",
       "      <td>real estate</td>\n",
       "      <td>306</td>\n",
       "      <td>2006-05-31 21:55:34</td>\n",
       "    </tr>\n",
       "    <tr>\n",
       "      <th>1</th>\n",
       "      <td>prudential real estate</td>\n",
       "      <td>189</td>\n",
       "      <td>2006-05-31 20:24:33</td>\n",
       "    </tr>\n",
       "    <tr>\n",
       "      <th>2</th>\n",
       "      <td>century 21 real estate</td>\n",
       "      <td>101</td>\n",
       "      <td>2006-05-30 22:59:36</td>\n",
       "    </tr>\n",
       "    <tr>\n",
       "      <th>3</th>\n",
       "      <td>florida real estate</td>\n",
       "      <td>79</td>\n",
       "      <td>2006-05-30 18:39:25</td>\n",
       "    </tr>\n",
       "    <tr>\n",
       "      <th>4</th>\n",
       "      <td>remax real estate</td>\n",
       "      <td>77</td>\n",
       "      <td>2006-05-29 10:10:16</td>\n",
       "    </tr>\n",
       "  </tbody>\n",
       "</table>\n",
       "</div>"
      ],
      "text/plain": [
       "                    query  count            timestamp\n",
       "0             real estate    306  2006-05-31 21:55:34\n",
       "1  prudential real estate    189  2006-05-31 20:24:33\n",
       "2  century 21 real estate    101  2006-05-30 22:59:36\n",
       "3     florida real estate     79  2006-05-30 18:39:25\n",
       "4       remax real estate     77  2006-05-29 10:10:16"
      ]
     },
     "execution_count": 3,
     "metadata": {},
     "output_type": "execute_result"
    }
   ],
   "source": [
    "reshaped = reshape(source)\n",
    "\n",
    "# peek\n",
    "reshaped.head(5)"
   ]
  },
  {
   "cell_type": "markdown",
   "metadata": {},
   "source": [
    "E.g. 189 distinct users searched for \"prudential real estate\""
   ]
  },
  {
   "cell_type": "code",
   "execution_count": 4,
   "metadata": {
    "scrolled": false
   },
   "outputs": [
    {
     "name": "stdout",
     "output_type": "stream",
     "text": [
      "Mapping for  autosuggest\n",
      "{\n",
      "  \"autosuggest\": {\n",
      "    \"mappings\": {\n",
      "      \"properties\": {\n",
      "        \"count\": {\n",
      "          \"type\": \"integer\"\n",
      "        },\n",
      "        \"last_query_date\": {\n",
      "          \"type\": \"date\",\n",
      "          \"format\": \"yyyy-MM-dd HH:mm:ss\"\n",
      "        },\n",
      "        \"query\": {\n",
      "          \"type\": \"search_as_you_type\",\n",
      "          \"max_shingle_size\": 3\n",
      "        }\n",
      "      }\n",
      "    }\n",
      "  }\n",
      "}\n"
     ]
    }
   ],
   "source": [
    "create_index(index='autosuggest', mapping_file='autosuggest/index_definition.json')\n",
    "\n",
    "index_mapping(index='autosuggest')"
   ]
  },
  {
   "cell_type": "code",
   "execution_count": 5,
   "metadata": {},
   "outputs": [
    {
     "name": "stdout",
     "output_type": "stream",
     "text": [
      "{'index': {'_index': 'autosuggest', '_id': 'real-estate'}}\n",
      "{'query': 'real estate', 'count': 306, 'timestamp': '2006-05-31 21:55:34'}\n",
      "{'index': {'_index': 'autosuggest', '_id': 'prudential-real-estate'}}\n",
      "{'query': 'prudential real estate', 'count': 189, 'timestamp': '2006-05-31 20:24:33'}\n",
      "{'index': {'_index': 'autosuggest', '_id': 'century-21-real-estate'}}\n",
      "{'query': 'century 21 real estate', 'count': 101, 'timestamp': '2006-05-30 22:59:36'}\n",
      "{'index': {'_index': 'autosuggest', '_id': 'florida-real-estate'}}\n",
      "{'query': 'florida real estate', 'count': 79, 'timestamp': '2006-05-30 18:39:25'}\n",
      "{'index': {'_index': 'autosuggest', '_id': 'remax-real-estate'}}\n",
      "{'query': 'remax real estate', 'count': 77, 'timestamp': '2006-05-29 10:10:16'}\n"
     ]
    },
    {
     "data": {
      "text/plain": [
       "[None, None, None, None, None, None, None, None, None, None]"
      ]
     },
     "execution_count": 5,
     "metadata": {},
     "output_type": "execute_result"
    }
   ],
   "source": [
    "load_ready = preload(reshaped)\n",
    "\n",
    "# peek\n",
    "[print(j) for j in load_ready[0:10]]\n"
   ]
  },
  {
   "cell_type": "markdown",
   "metadata": {},
   "source": [
    "\n",
    "## Load the index\n"
   ]
  },
  {
   "cell_type": "code",
   "execution_count": 6,
   "metadata": {},
   "outputs": [],
   "source": [
    "response = populate_index(body=load_ready)"
   ]
  },
  {
   "cell_type": "markdown",
   "metadata": {},
   "source": [
    "\n",
    "## Query for suggestions\n"
   ]
  },
  {
   "cell_type": "code",
   "execution_count": 7,
   "metadata": {},
   "outputs": [
    {
     "name": "stdout",
     "output_type": "stream",
     "text": [
      "{\n",
      "    \"size\": \"{{^size}}5{{/size}}{{size}}\",\n",
      "    \"query\": {\n",
      "        \"function_score\": {\n",
      "            \"query\": {\n",
      "              \"multi_match\": {\n",
      "                \"query\": \"{{text}}\",\n",
      "                \"type\": \"bool_prefix\",\n",
      "                \"fields\": [\n",
      "                  \"query\",\n",
      "                  \"query._2gram\",\n",
      "                  \"query._3gram\"\n",
      "                ]\n",
      "              }\n",
      "            },\n",
      "            \"functions\": [\n",
      "                {\n",
      "                    \"field_value_factor\": {\n",
      "                        \"field\": \"count\",\n",
      "                        \"modifier\": \"ln1p\"\n",
      "                    }\n",
      "                }\n",
      "            ],\n",
      "            \"boost_mode\": \"multiply\"\n",
      "        }\n",
      "    }\n",
      "}\n",
      "\n"
     ]
    }
   ],
   "source": [
    "peek(filename='autosuggest/query_template.mustache')"
   ]
  },
  {
   "cell_type": "code",
   "execution_count": 15,
   "metadata": {},
   "outputs": [
    {
     "name": "stdout",
     "output_type": "stream",
     "text": [
      "prescott real estate\n",
      "prescott arizona real estate\n",
      "prescott arizona real estate forclosures\n",
      "prescott arizona real estate for sale\n",
      "windmere commercial real estate prescott\n",
      "commercial real estate prescott\n"
     ]
    }
   ],
   "source": [
    "result = query_template(index='autosuggest', \n",
    "               template_file='autosuggest/query_template.mustache',\n",
    "               field='query',\n",
    "               params={ 'text': 'presc', 'size': 10 }\n",
    "              )\n",
    "\n",
    "suggestions = parse_json(result, jsonpath=\"hits.hits[*]._source.query\")\n",
    "print(*suggestions, sep='\\n')"
   ]
  },
  {
   "cell_type": "code",
   "execution_count": null,
   "metadata": {},
   "outputs": [],
   "source": []
  }
 ],
 "metadata": {
  "kernelspec": {
   "display_name": "Python 3",
   "language": "python",
   "name": "python3"
  },
  "language_info": {
   "codemirror_mode": {
    "name": "ipython",
    "version": 3
   },
   "file_extension": ".py",
   "mimetype": "text/x-python",
   "name": "python",
   "nbconvert_exporter": "python",
   "pygments_lexer": "ipython3",
   "version": "3.7.6"
  }
 },
 "nbformat": 4,
 "nbformat_minor": 4
}
