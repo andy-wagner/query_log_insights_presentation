{
 "cells": [
  {
   "cell_type": "markdown",
   "metadata": {},
   "source": [
    "\n",
    "\n",
    "# Recipe #2:  Related Queries\n",
    "\n"
   ]
  },
  {
   "cell_type": "markdown",
   "metadata": {},
   "source": [
    "For related queries, we need to index the following data-shape:  \n",
    "\n",
    "(**document**, **query[]**)"
   ]
  },
  {
   "cell_type": "code",
   "execution_count": null,
   "metadata": {},
   "outputs": [],
   "source": [
    "import sys\n",
    "!conda install --yes --prefix {sys.prefix} elasticsearch jsonlines jsonpath-ng python-slugify"
   ]
  },
  {
   "cell_type": "code",
   "execution_count": null,
   "metadata": {},
   "outputs": [],
   "source": [
    "import pandas\n",
    "from extract import extract, parse_json\n",
    "from related.transform import reshape, preload\n",
    "from index import create_index, populate_index, query_index, index_mapping, query_template, peek"
   ]
  },
  {
   "cell_type": "markdown",
   "metadata": {},
   "source": [
    "\n",
    "## Source data \n"
   ]
  },
  {
   "cell_type": "code",
   "execution_count": null,
   "metadata": {
    "scrolled": true
   },
   "outputs": [],
   "source": [
    "source = extract('./data/real_estate_queries.tsv')\n",
    "\n",
    "# View the source data\n",
    "source.head(5)"
   ]
  },
  {
   "cell_type": "markdown",
   "metadata": {},
   "source": [
    "\n",
    "##  Transform to fit the recipe\n"
   ]
  },
  {
   "cell_type": "code",
   "execution_count": null,
   "metadata": {
    "scrolled": true
   },
   "outputs": [],
   "source": [
    "reshaped = reshape(source)\n",
    "\n",
    "# Verify the data shape\n",
    "reshaped.head(50)"
   ]
  },
  {
   "cell_type": "markdown",
   "metadata": {},
   "source": [
    "E.g. 126.realnetsystems.com  received search clicks for multiple \"grand junction\" queries."
   ]
  },
  {
   "cell_type": "code",
   "execution_count": null,
   "metadata": {},
   "outputs": [],
   "source": [
    "load_ready = preload(reshaped)\n",
    "\n",
    "# Verify the elasticsearch bulk index format\n",
    "[print(j) for j in load_ready[0:10]]"
   ]
  },
  {
   "cell_type": "markdown",
   "metadata": {},
   "source": [
    "\n",
    "## Load the index\n"
   ]
  },
  {
   "cell_type": "code",
   "execution_count": null,
   "metadata": {
    "scrolled": false
   },
   "outputs": [],
   "source": [
    "# Create the index with mapping\n",
    "create_index(index='related', mapping_file='related/index_definition.json')\n",
    "\n",
    "# Show the mapping\n",
    "index_mapping(index='related')"
   ]
  },
  {
   "cell_type": "code",
   "execution_count": null,
   "metadata": {},
   "outputs": [],
   "source": [
    "# Load the index\n",
    "response = populate_index(body=load_ready)"
   ]
  },
  {
   "cell_type": "markdown",
   "metadata": {},
   "source": [
    "\n",
    "## Query for related searches\n"
   ]
  },
  {
   "cell_type": "code",
   "execution_count": null,
   "metadata": {},
   "outputs": [],
   "source": [
    "# Show the query for \"related queries\"\n",
    "peek(filename='related/query_template.mustache')"
   ]
  },
  {
   "cell_type": "code",
   "execution_count": null,
   "metadata": {},
   "outputs": [],
   "source": [
    "# Run the query\n",
    "result = query_template(index='related', \n",
    "               template_file='related/query_template.mustache',\n",
    "               params={ 'documents': [\n",
    "                  'http://www.dllr.state.md.us',\n",
    "                  'http://www.online-education.net',\n",
    "                  'http://www.dos.state.ny.us',\n",
    "                  'http://www.usarealestatelicense.com',\n",
    "                  'http://www.myflorida.com',\n",
    "                  'http://www.mortgagenewsdaily.com',\n",
    "                  'http://www.licensetutor.com',\n",
    "                  'http://www.state.nj.us',\n",
    "                  'http://www.re.state.az.us',\n",
    "                  'http://www.dre.cahwnet.gov',\n",
    "                  'http://www.dos.state.pa.us',\n",
    "                  'http://www.dol.wa.gov',\n",
    "                  'http://www.cbprimus.com',\n",
    "                  'http://real-estate-careers.longandfoster.com',\n",
    "                  'http://www.uic.edu',\n",
    "                  'http://www.thelearningsource.net',\n",
    "                  'http://www.rolandschoolofre.com',\n",
    "                  'http://www.realestatelicense.com',\n",
    "                  'http://www.parealtor.org',\n",
    "                  'http://www.onerealtorplace.com'\n",
    "               ], 'size': 10 }\n",
    "              )\n",
    "\n",
    "# Parse the related queries out of the response\n",
    "related_queries = parse_json(result, jsonpath=\"aggregations.related_queries.buckets[*].key\")\n",
    "\n",
    "# Sort them\n",
    "sorted_related_queries = sorted(related_queries)\n",
    "\n",
    "# Show\n",
    "print(*sorted_related_queries, sep='\\n')"
   ]
  },
  {
   "cell_type": "code",
   "execution_count": null,
   "metadata": {},
   "outputs": [],
   "source": []
  }
 ],
 "metadata": {
  "kernelspec": {
   "display_name": "Python 3",
   "language": "python",
   "name": "python3"
  },
  "language_info": {
   "codemirror_mode": {
    "name": "ipython",
    "version": 3
   },
   "file_extension": ".py",
   "mimetype": "text/x-python",
   "name": "python",
   "nbconvert_exporter": "python",
   "pygments_lexer": "ipython3",
   "version": "3.7.6"
  }
 },
 "nbformat": 4,
 "nbformat_minor": 4
}
